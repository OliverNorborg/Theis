{
  "nbformat": 4,
  "nbformat_minor": 0,
  "metadata": {
    "colab": {
      "provenance": []
    },
    "kernelspec": {
      "name": "python3",
      "display_name": "Python 3"
    },
    "language_info": {
      "name": "python"
    }
  },
  "cells": [
    {
      "cell_type": "code",
      "execution_count": 10,
      "metadata": {
        "id": "NzB5kp0HfEly"
      },
      "outputs": [],
      "source": [
        "# cnn model with batch normalization for mnist\n",
        "from numpy import mean\n",
        "from numpy import std\n",
        "from matplotlib import pyplot as plt\n",
        "from sklearn.model_selection import KFold\n",
        "from tensorflow.keras.datasets import mnist\n",
        "from tensorflow.keras.utils import to_categorical\n",
        "from tensorflow.keras.models import Sequential\n",
        "from tensorflow.keras.layers import Conv2D\n",
        "from tensorflow.keras.layers import MaxPooling2D\n",
        "from tensorflow.keras.layers import Dense\n",
        "from tensorflow.keras.layers import Flatten\n",
        "from tensorflow.keras.optimizers import SGD\n",
        "from tensorflow.keras.layers import BatchNormalization\n",
        "\n",
        "import glob\n",
        "import os\n",
        "from PIL import Image\n",
        "import numpy as np\n",
        "from sklearn.model_selection import train_test_split"
      ]
    },
    {
      "cell_type": "code",
      "source": [
        "from google.colab import drive\n",
        "drive.mount('/content/drive')"
      ],
      "metadata": {
        "colab": {
          "base_uri": "https://localhost:8080/"
        },
        "id": "L_Z_2o8Vfg4T",
        "outputId": "4cdb76ae-15ed-4fd7-b710-c1cd491846d3"
      },
      "execution_count": 11,
      "outputs": [
        {
          "output_type": "stream",
          "name": "stdout",
          "text": [
            "Drive already mounted at /content/drive; to attempt to forcibly remount, call drive.mount(\"/content/drive\", force_remount=True).\n"
          ]
        }
      ]
    },
    {
      "cell_type": "code",
      "source": [
        "#os.chdir(\"drive/MyDrive/Thesis\")\n",
        "# Going to the folder that containes the data\n",
        "#os.chdir(\"PVDefectsDS/Update28Feb2023/Serie1Update/\")"
      ],
      "metadata": {
        "id": "_mXcWJF4fkB9"
      },
      "execution_count": 12,
      "outputs": []
    },
    {
      "cell_type": "code",
      "source": [],
      "metadata": {
        "id": "nC590lgwfq4r"
      },
      "execution_count": 12,
      "outputs": []
    },
    {
      "cell_type": "code",
      "source": [
        "png_folder_path = \"CellsGS/\"\n",
        "mat_folder_path = \"MaskGT/\"\n",
        "\n",
        "# Get a list of all PNG files in the folder\n",
        "png_file_paths = glob.glob(os.path.join(png_folder_path, \"*.png\"))\n",
        "\n",
        "# Load each PNG file as a numpy array and add it to a list\n",
        "png_arrays = []\n",
        "#i = 0\n",
        "for png_file_path in png_file_paths:\n",
        "    with Image.open(png_file_path) as img:\n",
        "        png_arrays.append(np.array(img))\n",
        "        #if i == 1:\n",
        "            #print(png_file_path)\n",
        "        #i = i + 1\n"
      ],
      "metadata": {
        "id": "I1vfrra2fwGE"
      },
      "execution_count": 13,
      "outputs": []
    },
    {
      "cell_type": "code",
      "source": [
        "#png_arrays"
      ],
      "metadata": {
        "id": "xSiw8xVOhm7t"
      },
      "execution_count": 14,
      "outputs": []
    },
    {
      "cell_type": "code",
      "source": [
        "#reshape the image so they are the same size \n",
        "common_size = (256, 256)\n",
        "resized_png_arrays = []\n",
        "i = 0\n",
        "for png_array in png_arrays:\n",
        "    png_img = Image.fromarray(png_array)\n",
        "    resized_png_img = png_img.resize(common_size)\n",
        "    resized_png_array = np.array(resized_png_img)\n",
        "    resized_png_arrays.append(resized_png_array)"
      ],
      "metadata": {
        "id": "9Uv5JwApgffZ"
      },
      "execution_count": 15,
      "outputs": []
    },
    {
      "cell_type": "code",
      "source": [
        "fault_arrays = []\n",
        "i = 0\n",
        "for png_file_path in png_file_paths:\n",
        "    png_file_name = os.path.splitext(os.path.basename(png_file_path))[0]\n",
        "    png_file_name = png_file_name.replace(\"ImageGS\", \"Image\")\n",
        "    mask_file_name = f\"GT_{png_file_name}.mat\"\n",
        "    mask_file_path = os.path.join(mat_folder_path, mask_file_name)\n",
        "    \n",
        "    # Load the mask file as a numpy array, or create an artificial mask if the file does not exist\n",
        "    if os.path.exists(mask_file_path):\n",
        "      fault_arrays.append(1)\n",
        "    else:\n",
        "      fault_arrays.append(0)"
      ],
      "metadata": {
        "id": "tmI_9aGLlH3F"
      },
      "execution_count": 16,
      "outputs": []
    },
    {
      "cell_type": "code",
      "source": [
        "print(f'Amount of cells in the dateset: {len(fault_arrays)}')\n",
        "print(f'Amount of cells with faults: {sum(fault_arrays)}')"
      ],
      "metadata": {
        "colab": {
          "base_uri": "https://localhost:8080/"
        },
        "id": "KI5JLm_hlH5e",
        "outputId": "cebb4452-52b4-4cc3-d083-d53341e95eb6"
      },
      "execution_count": 17,
      "outputs": [
        {
          "output_type": "stream",
          "name": "stdout",
          "text": [
            "Amount of cells in the dateset: 8700\n",
            "Amount of cells with faults: 599\n"
          ]
        }
      ]
    },
    {
      "cell_type": "code",
      "source": [],
      "metadata": {
        "id": "VEAYFPV-lH7u"
      },
      "execution_count": 17,
      "outputs": []
    },
    {
      "cell_type": "code",
      "source": [],
      "metadata": {
        "id": "HKcTBzMKlH97"
      },
      "execution_count": 17,
      "outputs": []
    },
    {
      "cell_type": "code",
      "source": [],
      "metadata": {
        "id": "pE_uu7Y7lIAu"
      },
      "execution_count": 17,
      "outputs": []
    },
    {
      "cell_type": "code",
      "source": [
        "X_train, X_test, y_train, y_test = train_test_split(resized_png_arrays, fault_arrays, test_size=0.2, random_state=42)\n",
        "# Split train data into train and validation sets (75/25 split)\n",
        "X_train, X_val, y_train, y_val = train_test_split(X_train, y_train, test_size=0.25, random_state=42)"
      ],
      "metadata": {
        "id": "48Az-r42lICy"
      },
      "execution_count": 51,
      "outputs": []
    },
    {
      "cell_type": "code",
      "source": [
        "height, width = 256, 256\n",
        "X_train = np.array(X_train)\n",
        "X_test = np.array(X_test)\n",
        "X_val = np.array(X_val)\n",
        "X_train = X_train.reshape((-1, height, width, 1))\n",
        "X_test = X_test.reshape((-1, height, width, 1))\n",
        "X_val = X_val.reshape((-1,height, width, 1))\n",
        "\n",
        "\n",
        "print(f\"Amount of faulty cells in the training data: {sum(y_train)}\")\n",
        "print(f\"Amount of faulty cells in the testing data: {sum(y_test)}\")\n",
        "print(f\"Amount of faulty cells in the tvalidation data: {sum(y_val)}\")\n",
        "y_train = np.array(y_train)\n",
        "y_test = np.array(y_test)\n",
        "y_val = np.array(y_val)\n",
        "y_train = to_categorical(y_train)\n",
        "y_test = to_categorical(y_test)\n",
        "y_val = to_categorical(y_val)"
      ],
      "metadata": {
        "id": "wvYyzIoNk39s",
        "colab": {
          "base_uri": "https://localhost:8080/"
        },
        "outputId": "952e553f-e39c-49e3-d18c-f9115eaf5574"
      },
      "execution_count": 52,
      "outputs": [
        {
          "output_type": "stream",
          "name": "stdout",
          "text": [
            "Amount of faulty cells in the training data: 353\n",
            "Amount of faulty cells in the testing data: 117\n",
            "Amount of faulty cells in the tvalidation data: 129\n"
          ]
        }
      ]
    },
    {
      "cell_type": "code",
      "source": [
        "def define_model():\n",
        "    model = Sequential()\n",
        "    model.add(Conv2D(32, (3, 3), activation='relu', kernel_initializer='he_uniform', input_shape=(256, 256, 1)))\n",
        "    model.add(BatchNormalization())\n",
        "    model.add(MaxPooling2D((2, 2)))\n",
        "    model.add(Flatten())\n",
        "    model.add(Dense(100, activation='relu', kernel_initializer='he_uniform'))\n",
        "    model.add(BatchNormalization())\n",
        "    model.add(Dense(2, activation='softmax'))\n",
        "    # compile model\n",
        "    opt = SGD(learning_rate=0.01, momentum=0.9) \n",
        "    model.compile(optimizer=opt, loss='binary_crossentropy', metrics=['accuracy'])\n",
        "    return model\n",
        "\n",
        "model = define_model()"
      ],
      "metadata": {
        "id": "byUblNAFr9fq"
      },
      "execution_count": 21,
      "outputs": []
    },
    {
      "cell_type": "code",
      "source": [
        "history = model.fit(X_train, y_train, validation_data=(X_val,y_val), epochs = 3, batch_size = 100, verbose=0)"
      ],
      "metadata": {
        "id": "NUrMKwb9sBTx"
      },
      "execution_count": 27,
      "outputs": []
    },
    {
      "cell_type": "code",
      "source": [
        "history.history.keys()"
      ],
      "metadata": {
        "colab": {
          "base_uri": "https://localhost:8080/"
        },
        "id": "aOTVLTGj8MIl",
        "outputId": "487035ff-5884-4dc9-900e-e15ccf7559d3"
      },
      "execution_count": 24,
      "outputs": [
        {
          "output_type": "execute_result",
          "data": {
            "text/plain": [
              "dict_keys(['loss', 'accuracy', 'val_loss', 'val_accuracy'])"
            ]
          },
          "metadata": {},
          "execution_count": 24
        }
      ]
    },
    {
      "cell_type": "code",
      "source": [
        "history.history['accuracy']"
      ],
      "metadata": {
        "colab": {
          "base_uri": "https://localhost:8080/"
        },
        "id": "Oh-ovugp-918",
        "outputId": "dd1315f3-7252-4f35-adda-34c4862794ba"
      },
      "execution_count": 28,
      "outputs": [
        {
          "output_type": "execute_result",
          "data": {
            "text/plain": [
              "[0.9318007826805115,\n",
              " 0.9331417679786682,\n",
              " 0.936398446559906,\n",
              " 0.9461686015129089,\n",
              " 0.9611111283302307]"
            ]
          },
          "metadata": {},
          "execution_count": 28
        }
      ]
    },
    {
      "cell_type": "code",
      "source": [
        "# summarize history for accuracy\n",
        "plt.plot(history.history['accuracy'])\n",
        "plt.plot(history.history['val_accuracy'])\n",
        "plt.title('model accuracy')\n",
        "plt.ylabel('accuracy')\n",
        "plt.xlabel('epoch')\n",
        "plt.legend(['train', 'validation'], loc='lower right')\n",
        "plt.show()"
      ],
      "metadata": {
        "colab": {
          "base_uri": "https://localhost:8080/",
          "height": 295
        },
        "id": "mntXajaD-30O",
        "outputId": "f4b70027-20ef-4b22-f292-620e37afa944"
      },
      "execution_count": 30,
      "outputs": [
        {
          "output_type": "display_data",
          "data": {
            "text/plain": [
              "<Figure size 432x288 with 1 Axes>"
            ],
            "image/png": "[encoded data removed]"
          },
          "metadata": {
            "needs_background": "light"
          }
        }
      ]
    },
    {
      "cell_type": "code",
      "source": [
        "y_pred = model.predict(X_test)"
      ],
      "metadata": {
        "colab": {
          "base_uri": "https://localhost:8080/"
        },
        "id": "kYrwc9OYSReE",
        "outputId": "e7a54979-094d-4d8e-b8ec-d48e0c009298"
      },
      "execution_count": 67,
      "outputs": [
        {
          "output_type": "stream",
          "name": "stdout",
          "text": [
            "55/55 [==============================] - 53s 950ms/step\n"
          ]
        }
      ]
    },
    {
      "cell_type": "code",
      "source": [
        "from sklearn.metrics import classification_report, confusion_matrix\n",
        "import tensorflow as tf\n",
        "from sklearn.metrics import roc_curve"
      ],
      "metadata": {
        "id": "MeTO1SulV3OM"
      },
      "execution_count": 68,
      "outputs": []
    },
    {
      "cell_type": "code",
      "source": [
        "y_pred1 = y_pred\n",
        "y_test1 = y_test\n",
        "print(y_pred1)\n",
        "y_pred1 = tf.math.argmax(y_pred1, axis=1)\n",
        "y_test1 = tf.math.argmax(y_test1, axis=1)\n",
        "print(np.asarray(y_pred1))\n",
        "print(np.asarray(y_test1))"
      ],
      "metadata": {
        "colab": {
          "base_uri": "https://localhost:8080/"
        },
        "id": "WLmJR99nV7QC",
        "outputId": "bf8d317a-2789-497c-8956-126cdbf0e531"
      },
      "execution_count": 55,
      "outputs": [
        {
          "output_type": "stream",
          "name": "stdout",
          "text": [
            "[[9.9393225e-01 6.0677719e-03]\n",
            " [9.8963654e-01 1.0363431e-02]\n",
            " [9.9934250e-01 6.5745937e-04]\n",
            " ...\n",
            " [9.8233336e-01 1.7666677e-02]\n",
            " [9.8582757e-01 1.4172426e-02]\n",
            " [9.8768276e-01 1.2317268e-02]]\n",
            "[0 0 0 ... 0 0 0]\n",
            "[0 0 0 ... 0 0 0]\n"
          ]
        }
      ]
    },
    {
      "cell_type": "code",
      "source": [
        "cm = confusion_matrix(y_test1,y_pred1)\n",
        "print(cm)\n",
        "tp = cm[0][0]\n",
        "fp = cm[0][1]\n",
        "fn = cm[1][0]\n",
        "tn = cm[1][1]\n",
        "#print(cm[1][0])\n",
        "recall = tp/(tp+fn)\n",
        "print(f\"The recall of the test dataset is: {recall}\")"
      ],
      "metadata": {
        "colab": {
          "base_uri": "https://localhost:8080/"
        },
        "id": "0yDXD2n0Vv2Q",
        "outputId": "d932d880-ebae-44ba-c5e4-49eeb06ca395"
      },
      "execution_count": 64,
      "outputs": [
        {
          "output_type": "stream",
          "name": "stdout",
          "text": [
            "[[1607   16]\n",
            " [ 113    4]]\n",
            "The recall of the test dataset is: 0.9343023255813954\n"
          ]
        }
      ]
    },
    {
      "cell_type": "markdown",
      "source": [
        "From the confussion matrix we can see that we have 1607 cases of True positives, 113 of false negatives, 16 cases of false positives and 4 cases of true negatives. "
      ],
      "metadata": {
        "id": "PqkCRBkmZqkK"
      }
    },
    {
      "cell_type": "code",
      "source": [
        "# predict probabilities\n",
        "print(classification_report(y_test1, y_pred1))"
      ],
      "metadata": {
        "colab": {
          "base_uri": "https://localhost:8080/"
        },
        "id": "TJeb5jSqwZ-t",
        "outputId": "0e63624f-61bf-4484-9ffd-cab16235ccc5"
      },
      "execution_count": 72,
      "outputs": [
        {
          "output_type": "stream",
          "name": "stdout",
          "text": [
            "              precision    recall  f1-score   support\n",
            "\n",
            "           0       0.93      0.99      0.96      1623\n",
            "           1       0.20      0.03      0.06       117\n",
            "\n",
            "    accuracy                           0.93      1740\n",
            "   macro avg       0.57      0.51      0.51      1740\n",
            "weighted avg       0.88      0.93      0.90      1740\n",
            "\n"
          ]
        }
      ]
    },
    {
      "cell_type": "code",
      "source": [],
      "metadata": {
        "id": "QUdB4KOkvE30"
      },
      "execution_count": null,
      "outputs": []
    }
  ]
}